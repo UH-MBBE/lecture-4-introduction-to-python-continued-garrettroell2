{
 "cells": [
  {
   "cell_type": "markdown",
   "metadata": {},
   "source": [
    "# Lecture 4: Activity 1\n",
    "\n",
    "In this activity, your task is to write three different list comprehensions to peform different types of filtering.\n",
    "\n",
    "In the cell below, there is a snippet of data from a file of DNA sequencing barcode read counts. The data is in the list `reads`. Often times, in genomic analyses, reads below a certain length are not included. Use a list comprehension to create a new list called `filtered_reads`, consisting of only data points that have **more** than 100 reads. This should only require a single line of code.\n",
    "\n",
    "Hint: You can put `if` statements into list comprehensions by placing them after the `for` statement. Solving this may take a little trial and error.\n",
    "\n",
    "```python\n",
    "new_list = [expression for item in old_list if condition]\n",
    "```"
   ]
  },
  {
   "cell_type": "code",
   "execution_count": null,
   "metadata": {},
   "outputs": [],
   "source": [
    "\n",
    "reads = [102, 0, 12938, 1209, 734, 3, 98, 1000, 0, 2384, 1968, 72, 451, 0, 100]\n",
    "\n",
    "# using a single line, define a new list called filtered_reads\n"
   ]
  },
  {
   "cell_type": "code",
   "execution_count": null,
   "metadata": {},
   "outputs": [],
   "source": [
    "assert len(filtered_reads) == 8\n",
    "assert filtered_reads[7] == 451"
   ]
  },
  {
   "cell_type": "markdown",
   "metadata": {},
   "source": [
    "### Reporter gene data... yet again\n",
    "\n",
    "In the cell below, use a list comprehension to divide each `red` value by its corresponding `green` value, but only if `green` is greater than 0. The resulting list should be named `normalized`.\n",
    "\n",
    "Compared to the relatively simple list comprehension above, the list comprehension in this problem includes:\n",
    "\n",
    "1) Iteration over two lists\n",
    "\n",
    "2) A conditional statement\n",
    "\n",
    "3) A calculation with the list items\n",
    "\n",
    "All of that is expressed in one line of code. List comprehensions are concise and powerful, but do require some thought to get the syntax right."
   ]
  },
  {
   "cell_type": "code",
   "execution_count": null,
   "metadata": {},
   "outputs": [],
   "source": [
    "red = [23, 145, 203, 235, 354, 456]\n",
    "green = [5, 11, 6, 0, 8, 4]\n",
    "\n",
    "# Write your list comprehension below using the zip function and conditional statement. Print the resulting list and make sure it's right. \n"
   ]
  },
  {
   "cell_type": "code",
   "execution_count": null,
   "metadata": {},
   "outputs": [],
   "source": [
    "assert len(normalized) == 5\n",
    "assert normalized[4] == 114"
   ]
  },
  {
   "cell_type": "markdown",
   "metadata": {},
   "source": [
    "### Squared differences\n",
    "\n",
    "Just as in a `for` loop, conditional statements in list comprehensions can test more than one condition. \n",
    "\n",
    "In the cell below, you have a list of data that includes missing data represented by the string `N/A`. Write a list comprehension to calculate the squared difference from the mean (given by `mean`) for each data point that is defined. As a reminder, squared difference is `(value - mean)**2`, and the symbol for *not equal* is `!=`."
   ]
  },
  {
   "cell_type": "code",
   "execution_count": null,
   "metadata": {},
   "outputs": [],
   "source": [
    "data = [7.3, 0.0, 'N/A', 12.0, 29.6, 0.0, 19.2]\n",
    "mean = 10\n",
    "\n",
    "# create a new list called squared_diffs using a list comprehension\n"
   ]
  },
  {
   "cell_type": "code",
   "execution_count": null,
   "metadata": {},
   "outputs": [],
   "source": [
    "assert len(squared_diffs) == 6\n",
    "assert squared_diffs[-2] == 100.0"
   ]
  },
  {
   "cell_type": "markdown",
   "metadata": {},
   "source": [
    "# ACTIVITY 2\n",
    "\n",
    "### Write a function to calculate a summary statistics of barcode count data\n",
    "Some large-scale functional assays, such as deep mutational scans and massively paraller reporter gene assays, use Illumina sequencing of short DNA or RNA barcodes as the assay readout. The data comes in the form of read counts per barcode. To analyze the data, summary statistics for these barcode counts are calculated across multiple biological replicates (and often across multiple barcodes that tag the same protein variant or reporter gene).\n",
    "\n",
    "Barcode data is often noisy, which can be dealt with in different ways. You can eliminate outliers, as well as undetected barcodes (meaning those with a read count of 0). Some investigators choose to use the mean to summarize the data, while other prefer the median, since it is more robust to outliers and skewed data.\n",
    "\n",
    "In this activity, imagine that you are writing a program to process barcode data from deep mutational scans. A program like this would involve multiple components, but today you are working on a function to calculate a summary statistic for barcode counts. \n",
    "\n",
    "Below, write a function that does the following:\n",
    "\n",
    "1) Accepts one argument: a list of barcode count data.\n",
    "\n",
    "2) Process the list of data by creating a new list that does *not* include any values either greater than 2 (what we'll take as outliers here) or equal to 0. HINT: Use a `for` loop with a conditional statement, or a list comprehension.\n",
    "\n",
    "3) Calculate the average value of the list based on its sum and length.\n",
    "\n",
    "4) Returns the average value.\n",
    "\n",
    "**Note:** The barcode data is normalized by total number of reads, and thus mostly falls between zero and one."
   ]
  },
  {
   "cell_type": "code",
   "execution_count": null,
   "metadata": {},
   "outputs": [],
   "source": [
    "# Write a function called process_and_average_barcodes() here\n"
   ]
  },
  {
   "cell_type": "code",
   "execution_count": null,
   "metadata": {},
   "outputs": [],
   "source": [
    "barcode_reads = [0.6787, 0.1445, 0.2799, .03718, 0, 2.3, .0045, .3307, 0.1834]\n",
    "\n",
    "# use the function to define a variable called average_processed_reads\n"
   ]
  },
  {
   "cell_type": "code",
   "execution_count": null,
   "metadata": {},
   "outputs": [],
   "source": [
    "test_data = [1.6787, 0.17, 2.2799, .03718, 0, 2.3, .0145, .3307, 0.1746]\n",
    "\n",
    "test = process_and_average_barcodes(test_data)\n",
    "assert test > 0.400\n",
    "assert test < 0.401"
   ]
  },
  {
   "cell_type": "markdown",
   "metadata": {},
   "source": [
    "# End of Activity 2"
   ]
  }
 ],
 "metadata": {
  "kernelspec": {
   "display_name": "Python 3",
   "language": "python",
   "name": "python3"
  },
  "language_info": {
   "codemirror_mode": {
    "name": "ipython",
    "version": 3
   },
   "file_extension": ".py",
   "mimetype": "text/x-python",
   "name": "python",
   "nbconvert_exporter": "python",
   "pygments_lexer": "ipython3",
   "version": "3.10.12"
  }
 },
 "nbformat": 4,
 "nbformat_minor": 2
}
