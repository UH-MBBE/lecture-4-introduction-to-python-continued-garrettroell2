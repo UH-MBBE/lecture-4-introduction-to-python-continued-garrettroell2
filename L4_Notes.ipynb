{
 "cells": [
  {
   "cell_type": "markdown",
   "metadata": {},
   "source": [
    "# Lecture 4 Notes: Writing 'pythonic' code:\n",
    "'pythonic' = a term used within the Python community to describe code that follows a particular style or philosophy that is characteristic of the Python programming language.\n",
    "\n",
    "Main ideas:\n",
    "- Readability and Simplicity\n",
    "- Elegance and Explicitness\n",
    "- Leveraging Python's Features and Idioms"
   ]
  },
  {
   "cell_type": "markdown",
   "metadata": {},
   "source": [
    "### Defining variables by unpacking \n",
    "Unpacking means that you're assigning multiple variables at once, with the assignment operator."
   ]
  },
  {
   "cell_type": "code",
   "execution_count": null,
   "metadata": {},
   "outputs": [],
   "source": [
    "# Unpacking a list\n",
    "nucleotides = ['adenine','cytosine','guanine','thymine']\n",
    "\n",
    "# use unpacking to define four variables each with the name of a nucleotide\n",
    "\n",
    "# print the variables to see the result\n"
   ]
  },
  {
   "cell_type": "code",
   "execution_count": null,
   "metadata": {},
   "outputs": [],
   "source": [
    "# Unpacking a tuple\n",
    "coordinates = (1, 2, 3)\n",
    "\n",
    "# use unpacking to define four variables each with the name of a coordinate\n",
    "\n",
    "# print the variables to see the result\n"
   ]
  },
  {
   "cell_type": "code",
   "execution_count": null,
   "metadata": {},
   "outputs": [],
   "source": [
    "# Unpacking in a loop\n",
    "pairs = [(1, 'a'), (2, 'b'), (3, 'c')]\n",
    "\n",
    "# use unpacking to define four variables each with the name of a coordinate\n",
    "\n",
    "# print the variables to see the result\n"
   ]
  },
  {
   "cell_type": "markdown",
   "metadata": {},
   "source": [
    "### List comprehensions\n",
    "\n",
    "One of our major uses of `for` loops has been to build lists from other lists - such as the normalized reporter data.\n",
    "\n",
    "List comprehensions are a pythonic way to build lists from other lists. They are very common, so it is important to be familiar with the syntax.\n",
    "\n",
    "```python\n",
    "new_list = [expression for item in old_list if condition]\n",
    "```"
   ]
  },
  {
   "cell_type": "code",
   "execution_count": null,
   "metadata": {},
   "outputs": [],
   "source": [
    "integers = [1, 2, 3, 4, 5]\n",
    "\n",
    "# write a standard for loop to build a new list with the squared value of each integer in the list\n"
   ]
  },
  {
   "cell_type": "code",
   "execution_count": null,
   "metadata": {},
   "outputs": [],
   "source": [
    "integers = [1, 2, 3, 4, 5]\n",
    "\n",
    "# use a list comprehension to complete the same task\n"
   ]
  },
  {
   "cell_type": "code",
   "execution_count": null,
   "metadata": {},
   "outputs": [],
   "source": [
    "# generate the same list using the range function inside a list comprehension\n"
   ]
  },
  {
   "cell_type": "markdown",
   "metadata": {},
   "source": [
    "In python, the modulo operator, represented by the symbol `%` calculates the remainder of dividing one number by another. Here are some examples:\n",
    "- 7 % 3 = 1\n",
    "- 10 % 2 = 0\n",
    "- 15 % 4 = 3"
   ]
  },
  {
   "cell_type": "code",
   "execution_count": null,
   "metadata": {},
   "outputs": [],
   "source": [
    "# include a conditional statement to only add even integers to the generated list using a list comprehension\n"
   ]
  },
  {
   "cell_type": "code",
   "execution_count": null,
   "metadata": {},
   "outputs": [],
   "source": [
    "# to demonstrate the usefulness of list comprehensions, rewrite this code without using a list comprehension\n"
   ]
  },
  {
   "cell_type": "code",
   "execution_count": null,
   "metadata": {},
   "outputs": [],
   "source": [
    "red = [23, 145, 203, 235, 354, 456]\n",
    "green = [5, 11, 6, 9, 8, 4]\n",
    "\n",
    "# define a new list called normalized that contains red values / green values using a list comprehension and the zip function\n"
   ]
  },
  {
   "cell_type": "markdown",
   "metadata": {},
   "source": [
    "### Formatting print statements using f-strings\n",
    "For example:\n",
    "```python\n",
    "print(f'result: {value:.4}')\n",
    "```"
   ]
  },
  {
   "cell_type": "code",
   "execution_count": null,
   "metadata": {},
   "outputs": [],
   "source": [
    "name = \"Bill\"\n",
    "age = 30\n",
    "\n",
    "# Use an f-string to combine variables into a string\n"
   ]
  },
  {
   "cell_type": "code",
   "execution_count": null,
   "metadata": {},
   "outputs": [],
   "source": [
    "# mathematical operations\n",
    "a = 5\n",
    "b = 10\n",
    "\n",
    "# Use an f-string to combine variables into a string and print the sum\n"
   ]
  },
  {
   "cell_type": "code",
   "execution_count": null,
   "metadata": {},
   "outputs": [],
   "source": [
    "# function calls\n",
    "def get_temperature():\n",
    "    return 22.5\n",
    "\n",
    "# Use an f-string to print the value returned by a function\n"
   ]
  },
  {
   "cell_type": "code",
   "execution_count": null,
   "metadata": {},
   "outputs": [],
   "source": [
    "# formatting numbers\n",
    "pi = 3.14159265\n",
    "\n",
    "# Use an f-string to print the value pi rounded to to two decimal places\n"
   ]
  },
  {
   "cell_type": "markdown",
   "metadata": {},
   "source": [
    "### Reading data from a file\n",
    "\n",
    "Without a context manager. In this case you are required to close the file.\n",
    "```python\n",
    "file = open('file_name.txt')\n",
    "\n",
    "first_line = file.readline()\n",
    "\n",
    "for line in file:\n",
    "\n",
    "file.close()\n",
    "```\n",
    "\n",
    "With a context manager (using the `with` keyword) the file will automatically close.\n",
    "```python\n",
    "with open('test_table.txt', 'r') as file:\n",
    "    first_line = file.readline()\n",
    "\n",
    "    for line in file:\n",
    "```\n"
   ]
  },
  {
   "cell_type": "code",
   "execution_count": null,
   "metadata": {},
   "outputs": [],
   "source": [
    "# Open the genes.txt file without a context manager, and print the data'"
   ]
  },
  {
   "cell_type": "code",
   "execution_count": null,
   "metadata": {},
   "outputs": [],
   "source": [
    "# Open the genes.txt file with a context manager, and save the data to lists"
   ]
  },
  {
   "cell_type": "markdown",
   "metadata": {},
   "source": [
    "### Some concluding thoughts"
   ]
  },
  {
   "cell_type": "code",
   "execution_count": null,
   "metadata": {},
   "outputs": [],
   "source": [
    "# run this cell to print the poem 'The Zen of Python'\n",
    "import this"
   ]
  }
 ],
 "metadata": {
  "kernelspec": {
   "display_name": "Python 3",
   "language": "python",
   "name": "python3"
  },
  "language_info": {
   "codemirror_mode": {
    "name": "ipython",
    "version": 3
   },
   "file_extension": ".py",
   "mimetype": "text/x-python",
   "name": "python",
   "nbconvert_exporter": "python",
   "pygments_lexer": "ipython3",
   "version": "3.10.12"
  }
 },
 "nbformat": 4,
 "nbformat_minor": 2
}
