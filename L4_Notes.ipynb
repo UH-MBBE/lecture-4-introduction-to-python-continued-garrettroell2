{
 "cells": [
  {
   "cell_type": "markdown",
   "metadata": {},
   "source": [
    "# Lecture 4 Notes: Writing 'pythonic' code:\n",
    "'pythonic' = a term used within the Python community to describe code that follows a particular style or philosophy that is characteristic of the Python programming language.\n",
    "\n",
    "Main ideas:\n",
    "- Readability and Simplicity\n",
    "- Elegance and Explicitness\n",
    "- Leveraging Python's Features and Idioms"
   ]
  },
  {
   "cell_type": "markdown",
   "metadata": {},
   "source": [
    "### Defining variables by unpacking \n",
    "Unpacking means that you're assigning multiple variables at once, with the assignment operator."
   ]
  },
  {
   "cell_type": "code",
   "execution_count": 1,
   "metadata": {},
   "outputs": [
    {
     "name": "stdout",
     "output_type": "stream",
     "text": [
      "adenine cytosine guanine thymine\n"
     ]
    }
   ],
   "source": [
    "# Unpacking a list\n",
    "nucleotides = ['adenine','cytosine','guanine','thymine']\n",
    "\n",
    "# use unpacking to define four variables each with the name of a nucleotide\n",
    "a, c, g, t = nucleotides\n",
    "\n",
    "# print the variables to see the result\n",
    "print(a, c, g, t)\n"
   ]
  },
  {
   "cell_type": "code",
   "execution_count": 2,
   "metadata": {},
   "outputs": [
    {
     "name": "stdout",
     "output_type": "stream",
     "text": [
      "1 2 3\n"
     ]
    }
   ],
   "source": [
    "# Unpacking a tuple\n",
    "coordinates = (1, 2, 3)\n",
    "\n",
    "# use unpacking to define three variables each with the name of a coordinate\n",
    "x, y, z = coordinates\n",
    "\n",
    "# print the variables to see the result\n",
    "print(x, y, z)\n"
   ]
  },
  {
   "cell_type": "code",
   "execution_count": 3,
   "metadata": {},
   "outputs": [
    {
     "name": "stdout",
     "output_type": "stream",
     "text": [
      "1 a\n",
      "2 b\n",
      "3 c\n"
     ]
    }
   ],
   "source": [
    "# Unpacking in a loop\n",
    "pairs = [(1, 'a'), (2, 'b'), (3, 'c')]\n",
    "\n",
    "# use unpacking to define three variables each with the name of a coordinate\n",
    "for number, letter in pairs:\n",
    "    print(number, letter)"
   ]
  },
  {
   "cell_type": "markdown",
   "metadata": {},
   "source": [
    "### List comprehensions\n",
    "\n",
    "One of our major uses of `for` loops has been to build lists from other lists - such as the normalized reporter data.\n",
    "\n",
    "List comprehensions are a pythonic way to build lists from other lists. They are very common, so it is important to be familiar with the syntax.\n",
    "\n",
    "```python\n",
    "new_list = [expression for item in old_list if condition]\n",
    "```"
   ]
  },
  {
   "cell_type": "code",
   "execution_count": 4,
   "metadata": {},
   "outputs": [
    {
     "name": "stdout",
     "output_type": "stream",
     "text": [
      "[1, 4, 9, 16, 25]\n"
     ]
    }
   ],
   "source": [
    "integers = [1, 2, 3, 4, 5]\n",
    "\n",
    "# write a standard for loop to build a new list with the squared value of each integer in the list\n",
    "sq_ints = []\n",
    "for integer in integers:\n",
    "    sq_ints.append(integer**2)\n",
    "\n",
    "print(sq_ints)\n",
    "\n"
   ]
  },
  {
   "cell_type": "code",
   "execution_count": 5,
   "metadata": {},
   "outputs": [
    {
     "data": {
      "text/plain": [
       "[1, 4, 9, 16, 25]"
      ]
     },
     "execution_count": 5,
     "metadata": {},
     "output_type": "execute_result"
    }
   ],
   "source": [
    "integers = [1, 2, 3, 4, 5]\n",
    "\n",
    "# new_list = [expression for item in old_list if condition]\n",
    "# use a list comprehension to complete the same task\n",
    "\n",
    "sq_ints_2 = [integer**2 for integer in integers]\n",
    "\n",
    "sq_ints_2"
   ]
  },
  {
   "cell_type": "code",
   "execution_count": 11,
   "metadata": {},
   "outputs": [
    {
     "data": {
      "text/plain": [
       "[1, 4, 9, 16, 25]"
      ]
     },
     "execution_count": 11,
     "metadata": {},
     "output_type": "execute_result"
    }
   ],
   "source": [
    "# generate the same list using the range function inside a list comprehension\n",
    "\n",
    "sq_ints_3 = [index**2 for index in range(1, 6)]\n",
    "\n",
    "sq_ints_3"
   ]
  },
  {
   "cell_type": "markdown",
   "metadata": {},
   "source": [
    "In python, the modulo operator, represented by the symbol `%` calculates the remainder of dividing one number by another. Here are some examples:\n",
    "- 7 % 3 = 1\n",
    "- 10 % 2 = 0\n",
    "- 15 % 4 = 3"
   ]
  },
  {
   "cell_type": "code",
   "execution_count": 13,
   "metadata": {},
   "outputs": [
    {
     "data": {
      "text/plain": [
       "[4, 16]"
      ]
     },
     "execution_count": 13,
     "metadata": {},
     "output_type": "execute_result"
    }
   ],
   "source": [
    "# include a conditional statement to only add even integers to the generated list using a list comprehension\n",
    "sq_even_ints = [integer**2 for integer in integers if integer % 2 == 0]\n",
    "\n",
    "sq_even_ints"
   ]
  },
  {
   "cell_type": "code",
   "execution_count": null,
   "metadata": {},
   "outputs": [],
   "source": [
    "# to demonstrate the usefulness of list comprehensions, rewrite this code without using a list comprehension\n"
   ]
  },
  {
   "cell_type": "code",
   "execution_count": 14,
   "metadata": {},
   "outputs": [
    {
     "data": {
      "text/plain": [
       "[4.6, 13.181818181818182, 33.833333333333336, 26.11111111111111, 44.25, 114.0]"
      ]
     },
     "execution_count": 14,
     "metadata": {},
     "output_type": "execute_result"
    }
   ],
   "source": [
    "red = [23, 145, 203, 235, 354, 456]\n",
    "green = [5, 11, 6, 9, 8, 4]\n",
    "\n",
    "# define a new list called normalized that contains red values / green values using a list comprehension and the zip function\n",
    "\n",
    "normalized = [r_gene / g_gene for r_gene, g_gene in zip(red, green)]\n",
    "\n",
    "normalized"
   ]
  },
  {
   "cell_type": "markdown",
   "metadata": {},
   "source": [
    "### Formatting print statements using f-strings\n",
    "For example:\n",
    "```python\n",
    "print(f'result: {value:.4}')\n",
    "```"
   ]
  },
  {
   "cell_type": "code",
   "execution_count": 18,
   "metadata": {},
   "outputs": [
    {
     "name": "stdout",
     "output_type": "stream",
     "text": [
      "Thomas is 30.\n"
     ]
    }
   ],
   "source": [
    "name = \"Thomas\"\n",
    "age = 30\n",
    "\n",
    "# Use an f-string to combine variables into a string\n",
    "my_string = f'{name} is {age}.'\n",
    "\n",
    "print(my_string)"
   ]
  },
  {
   "cell_type": "code",
   "execution_count": 20,
   "metadata": {},
   "outputs": [
    {
     "data": {
      "text/plain": [
       "'5 + 15 = 20'"
      ]
     },
     "execution_count": 20,
     "metadata": {},
     "output_type": "execute_result"
    }
   ],
   "source": [
    "# mathematical operations\n",
    "a = 5\n",
    "b = 15\n",
    "\n",
    "# Use an f-string to combine variables into a string and print the sum\n",
    "my_string = f'{a} + {b} = {a + b}'\n",
    "\n",
    "my_string\n"
   ]
  },
  {
   "cell_type": "code",
   "execution_count": 21,
   "metadata": {},
   "outputs": [
    {
     "data": {
      "text/plain": [
       "'Today it is 22.5 degrees.'"
      ]
     },
     "execution_count": 21,
     "metadata": {},
     "output_type": "execute_result"
    }
   ],
   "source": [
    "# function calls\n",
    "def get_temperature():\n",
    "    return 22.5\n",
    "\n",
    "# Use an f-string to print the value returned by a function\n",
    "my_string = f'Today it is {get_temperature()} degrees.'\n",
    "\n",
    "my_string\n"
   ]
  },
  {
   "cell_type": "code",
   "execution_count": 25,
   "metadata": {},
   "outputs": [
    {
     "data": {
      "text/plain": [
       "'the value of pi is: 3.142'"
      ]
     },
     "execution_count": 25,
     "metadata": {},
     "output_type": "execute_result"
    }
   ],
   "source": [
    "# formatting numbers\n",
    "pi = 3.14159265\n",
    "\n",
    "# Use an f-string to print the value pi rounded to to two decimal places\n",
    "\n",
    "# print(f'result: {value:.4}')\n",
    "\n",
    "formatted_string = f'the value of pi is: {pi:.4}'\n",
    "\n",
    "formatted_string"
   ]
  },
  {
   "cell_type": "markdown",
   "metadata": {},
   "source": [
    "### Reading data from a file\n",
    "\n",
    "Without a context manager. In this case you are required to close the file.\n",
    "```python\n",
    "file = open('file_name.txt')\n",
    "\n",
    "first_line = file.readline()\n",
    "\n",
    "for line in file:\n",
    "\n",
    "file.close()\n",
    "```\n",
    "\n",
    "With a context manager (using the `with` keyword) the file will automatically close.\n",
    "```python\n",
    "with open('test_table.txt', 'r') as file:\n",
    "    first_line = file.readline()\n",
    "\n",
    "    for line in file:\n",
    "```\n"
   ]
  },
  {
   "cell_type": "code",
   "execution_count": 34,
   "metadata": {},
   "outputs": [
    {
     "name": "stdout",
     "output_type": "stream",
     "text": [
      "GeneName\tFunction\tLength\n",
      "\n",
      "The gene, BRCA1, has a length of 245 bases, and does DNA Repair.\n",
      "The gene, TP53, has a length of 547 bases, and does Cell Cycle Regulation.\n",
      "The gene, GATA3, has a length of 276 bases, and does Transcription Regulation.\n"
     ]
    }
   ],
   "source": [
    "# Open the genes.txt file without a context manager, and print the data\n",
    "\n",
    "file = open('genes.txt')\n",
    "\n",
    "first_line = file.readline()\n",
    "print(first_line)\n",
    "\n",
    "for line in file:\n",
    "    name, function, length = line.strip().split('\\t')\n",
    "    print(f'The gene, {name}, has a length of {length} bases, and does {function}.')\n",
    "\n",
    "file.close()"
   ]
  },
  {
   "cell_type": "code",
   "execution_count": 35,
   "metadata": {},
   "outputs": [
    {
     "name": "stdout",
     "output_type": "stream",
     "text": [
      "['BRCA1', 'TP53', 'GATA3']\n",
      "['DNA Repair', 'Cell Cycle Regulation', 'Transcription Regulation']\n",
      "['245', '547', '276']\n"
     ]
    }
   ],
   "source": [
    "# Open the genes.txt file with a context manager, and save the data to lists\n",
    "names = []\n",
    "functions = []\n",
    "lengths = []\n",
    "\n",
    "with open('genes.txt', 'r') as file:\n",
    "    first_line = file.readline()\n",
    "\n",
    "    for line in file:\n",
    "        name, function, length = line.strip().split('\\t')\n",
    "        names.append(name)\n",
    "        functions.append(function)\n",
    "        lengths.append(length)\n",
    "\n",
    "print(names)\n",
    "print(functions)\n",
    "print(lengths)"
   ]
  },
  {
   "cell_type": "markdown",
   "metadata": {},
   "source": [
    "### Some concluding thoughts"
   ]
  },
  {
   "cell_type": "code",
   "execution_count": 36,
   "metadata": {},
   "outputs": [
    {
     "name": "stdout",
     "output_type": "stream",
     "text": [
      "The Zen of Python, by Tim Peters\n",
      "\n",
      "Beautiful is better than ugly.\n",
      "Explicit is better than implicit.\n",
      "Simple is better than complex.\n",
      "Complex is better than complicated.\n",
      "Flat is better than nested.\n",
      "Sparse is better than dense.\n",
      "Readability counts.\n",
      "Special cases aren't special enough to break the rules.\n",
      "Although practicality beats purity.\n",
      "Errors should never pass silently.\n",
      "Unless explicitly silenced.\n",
      "In the face of ambiguity, refuse the temptation to guess.\n",
      "There should be one-- and preferably only one --obvious way to do it.\n",
      "Although that way may not be obvious at first unless you're Dutch.\n",
      "Now is better than never.\n",
      "Although never is often better than *right* now.\n",
      "If the implementation is hard to explain, it's a bad idea.\n",
      "If the implementation is easy to explain, it may be a good idea.\n",
      "Namespaces are one honking great idea -- let's do more of those!\n"
     ]
    }
   ],
   "source": [
    "# run this cell to print the poem 'The Zen of Python'\n",
    "import this"
   ]
  },
  {
   "cell_type": "code",
   "execution_count": null,
   "metadata": {},
   "outputs": [],
   "source": []
  }
 ],
 "metadata": {
  "kernelspec": {
   "display_name": "Python 3",
   "language": "python",
   "name": "python3"
  },
  "language_info": {
   "codemirror_mode": {
    "name": "ipython",
    "version": 3
   },
   "file_extension": ".py",
   "mimetype": "text/x-python",
   "name": "python",
   "nbconvert_exporter": "python",
   "pygments_lexer": "ipython3",
   "version": "3.10.12"
  }
 },
 "nbformat": 4,
 "nbformat_minor": 2
}
